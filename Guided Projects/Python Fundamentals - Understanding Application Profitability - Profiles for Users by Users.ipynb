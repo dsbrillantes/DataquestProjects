{
 "cells": [
  {
   "cell_type": "markdown",
   "metadata": {},
   "source": [
    "# Understanding Application Profitability - Profiles for Users by Users \n",
    "---\n",
    "\n",
    "Let's pretend that we're working as data analysts for a company that builds Android and iOS mobile apps. We make our apps available on Google Play and the App Store. We only build apps that are free to download and install, and our main source of revenue consists of in-app ads. This means our revenue for any given app is mostly influenced by the number of users who use our app — the more users that see and engage with the ads, the better. \n",
    "\n",
    "Our __goal__ for this project is to __analyze data to help our developers understand what type of apps are likely to attract more users__."
   ]
  },
  {
   "cell_type": "markdown",
   "metadata": {},
   "source": [
    "## About The Datasets\n",
    "---\n",
    "The datasets contain a __lot__ of useful information about iOS apps from the App Store (collected July 2017) and Android apps from Google Play (collected Aug. 2018). Some of the information we can glean from over 7000 iOS and 10000 Android individual apps are their names, user ratings, prices, and more.\n",
    "\n",
    "The App Store dataset can be downloaded for free [here](https://www.kaggle.com/ramamet4/app-store-apple-data-set-10k-apps/download) and the Google Play dataset [here](https://dq-content.s3.amazonaws.com/350/googleplaystore.csv), while further description of each of their columns/variables can be found in their documentation: [App Store](https://www.kaggle.com/ramamet4/app-store-apple-data-set-10k-apps), [Google Play](https://www.kaggle.com/lava18/google-play-store-apps). Here's a quick look:\n",
    "\n",
    "\n",
    "| COLUMN       | DESCRIPTION    |\n",
    "| :---------:  | :---------:    |\n",
    "| \"id\"         | App ID         |\n",
    "| \"track_name\" | App Name       |\n",
    "| \"size_bytes\" | Size (in Bytes)|\n",
    "\n"
   ]
  },
  {
   "cell_type": "code",
   "execution_count": 1,
   "metadata": {
    "collapsed": false
   },
   "outputs": [
    {
     "name": "stdout",
     "output_type": "stream",
     "text": [
      "['id', 'track_name', 'size_bytes', 'currency', 'price', 'rating_count_tot', 'rating_count_ver', 'user_rating', 'user_rating_ver', 'ver', 'cont_rating', 'prime_genre', 'sup_devices.num', 'ipadSc_urls.num', 'lang.num', 'vpp_lic']\n",
      "\n",
      "\n",
      "[['284882215', 'Facebook', '389879808', 'USD', '0.0', '2974676', '212', '3.5', '3.5', '95.0', '4+', 'Social Networking', '37', '1', '29', '1'], ['389801252', 'Instagram', '113954816', 'USD', '0.0', '2161558', '1289', '4.5', '4.0', '10.23', '12+', 'Photo & Video', '37', '0', '29', '1'], ['529479190', 'Clash of Clans', '116476928', 'USD', '0.0', '2130805', '579', '4.5', '4.5', '9.24.12', '9+', 'Games', '38', '5', '18', '1'], ['420009108', 'Temple Run', '65921024', 'USD', '0.0', '1724546', '3842', '4.5', '4.0', '1.6.2', '9+', 'Games', '40', '5', '1', '1']]\n"
     ]
    }
   ],
   "source": [
    "from csv import reader \n",
    "\n",
    "app_store = list(reader(open('AppleStore.csv')))\n",
    "\n",
    "# First few rows\n",
    "print(app_store[0])\n",
    "print(\"\\n\")\n",
    "print(app_store[1:5])"
   ]
  },
  {
   "cell_type": "markdown",
   "metadata": {},
   "source": [
    "Let's try exploring the datasets using a function that prints rows in a readable way. The below function takes as input:\n",
    "- a __dataset__ in the form of a list of lists\n",
    "- a __start__ and an __end__, which are integers that correspond to row indices from which the data set is sliced\n",
    "- a boolean __rows_and_columns__ input indicating whether to print the number of rows and columns (defaults to _False_)"
   ]
  },
  {
   "cell_type": "code",
   "execution_count": 2,
   "metadata": {
    "collapsed": true
   },
   "outputs": [],
   "source": [
    "def explore_data(dataset, start, end, rows_and_columns=False):\n",
    "    dataset_slice = dataset[start:end]    \n",
    "    for row in dataset_slice:\n",
    "        print(row)\n",
    "        print('\\n') # adds a new (empty) line after each row\n",
    "\n",
    "    if rows_and_columns:\n",
    "        print('Number of rows:', len(dataset))\n",
    "        print('Number of columns:', len(dataset[0]))"
   ]
  },
  {
   "cell_type": "markdown",
   "metadata": {},
   "source": [
    "After we supply the necessary arguments, the function slices the dataset to contain only the rows defined by __start__ and __end__, and iterates over each row. For each iteration, the row is printed along with _\"\\n\"_ which is a special character that adds a new line to make our rows more readable.\n",
    "\n",
    "Let's see it in action below!"
   ]
  },
  {
   "cell_type": "code",
   "execution_count": 3,
   "metadata": {
    "collapsed": false
   },
   "outputs": [
    {
     "name": "stdout",
     "output_type": "stream",
     "text": [
      "['284882215', 'Facebook', '389879808', 'USD', '0.0', '2974676', '212', '3.5', '3.5', '95.0', '4+', 'Social Networking', '37', '1', '29', '1']\n",
      "\n",
      "\n",
      "['389801252', 'Instagram', '113954816', 'USD', '0.0', '2161558', '1289', '4.5', '4.0', '10.23', '12+', 'Photo & Video', '37', '0', '29', '1']\n",
      "\n",
      "\n",
      "['529479190', 'Clash of Clans', '116476928', 'USD', '0.0', '2130805', '579', '4.5', '4.5', '9.24.12', '9+', 'Games', '38', '5', '18', '1']\n",
      "\n",
      "\n",
      "['420009108', 'Temple Run', '65921024', 'USD', '0.0', '1724546', '3842', '4.5', '4.0', '1.6.2', '9+', 'Games', '40', '5', '1', '1']\n",
      "\n",
      "\n",
      "['284035177', 'Pandora - Music & Radio', '130242560', 'USD', '0.0', '1126879', '3594', '4.0', '4.5', '8.4.1', '12+', 'Music', '37', '4', '1', '1']\n",
      "\n",
      "\n",
      "Number of rows: 7197\n",
      "Number of columns: 16\n"
     ]
    }
   ],
   "source": [
    "app_store = list(reader(open('AppleStore.csv')))\n",
    "goog_play = list(reader(open('googleplaystore.csv')))\n",
    "\n",
    "# Using the explore_data function we created\n",
    "# We exlude the header row to get the correct number of rows\n",
    "explore_data(app_store[1:], 0, 5, True)"
   ]
  },
  {
   "cell_type": "code",
   "execution_count": 4,
   "metadata": {
    "collapsed": false
   },
   "outputs": [
    {
     "name": "stdout",
     "output_type": "stream",
     "text": [
      "['Photo Editor & Candy Camera & Grid & ScrapBook', 'ART_AND_DESIGN', '4.1', '159', '19M', '10,000+', 'Free', '0', 'Everyone', 'Art & Design', 'January 7, 2018', '1.0.0', '4.0.3 and up']\n",
      "\n",
      "\n",
      "['Coloring book moana', 'ART_AND_DESIGN', '3.9', '967', '14M', '500,000+', 'Free', '0', 'Everyone', 'Art & Design;Pretend Play', 'January 15, 2018', '2.0.0', '4.0.3 and up']\n",
      "\n",
      "\n",
      "['U Launcher Lite – FREE Live Cool Themes, Hide Apps', 'ART_AND_DESIGN', '4.7', '87510', '8.7M', '5,000,000+', 'Free', '0', 'Everyone', 'Art & Design', 'August 1, 2018', '1.2.4', '4.0.3 and up']\n",
      "\n",
      "\n",
      "['Sketch - Draw & Paint', 'ART_AND_DESIGN', '4.5', '215644', '25M', '50,000,000+', 'Free', '0', 'Teen', 'Art & Design', 'June 8, 2018', 'Varies with device', '4.2 and up']\n",
      "\n",
      "\n",
      "['Pixel Draw - Number Art Coloring Book', 'ART_AND_DESIGN', '4.3', '967', '2.8M', '100,000+', 'Free', '0', 'Everyone', 'Art & Design;Creativity', 'June 20, 2018', '1.1', '4.4 and up']\n",
      "\n",
      "\n",
      "Number of rows: 10841\n",
      "Number of columns: 13\n"
     ]
    }
   ],
   "source": [
    "explore_data(goog_play[1:], 0, 5, True)"
   ]
  },
  {
   "cell_type": "markdown",
   "metadata": {},
   "source": [
    "As we can see, the App Store dataset contains more columns/variables compared to the Google Play dataset. The exact number of rows for the former is __7,197__, while for the latter it's __10,841__. \n",
    "\n",
    "Now let's check and identify which columns could help us reach our goal and aid in our succeeding analyses."
   ]
  },
  {
   "cell_type": "code",
   "execution_count": 5,
   "metadata": {
    "collapsed": false
   },
   "outputs": [
    {
     "name": "stdout",
     "output_type": "stream",
     "text": [
      "['id', 'track_name', 'size_bytes', 'currency', 'price', 'rating_count_tot', 'rating_count_ver', 'user_rating', 'user_rating_ver', 'ver', 'cont_rating', 'prime_genre', 'sup_devices.num', 'ipadSc_urls.num', 'lang.num', 'vpp_lic']\n",
      "\n",
      "\n",
      "['App', 'Category', 'Rating', 'Reviews', 'Size', 'Installs', 'Type', 'Price', 'Content Rating', 'Genres', 'Last Updated', 'Current Ver', 'Android Ver']\n"
     ]
    }
   ],
   "source": [
    "print(app_store[0])\n",
    "print(\"\\n\")\n",
    "print(goog_play[0])"
   ]
  },
  {
   "cell_type": "markdown",
   "metadata": {},
   "source": [
    "## Data Cleaning\n",
    "---\n",
    "In order to have accurate analyses, we must first perform data cleaning which identifies cells that could affect the results and thus the conclusions of our analyses, and performing the appropriate action step:\n",
    "- Detecting inaccurate data, removing or correcting them\n",
    "- Detecting duplicate data, removing them\n",
    "\n",
    "Recall that the apps we build are only those that are __free__ to download and install, as well as those that are primaryly consumed by an __English-speaking__ audience. This means that we will:\n",
    "- Remove apps that are not free\n",
    "- Remove apps with non-English app names\n",
    "\n",
    "### I. Duplicates, Inaccurate Data \n",
    "\n",
    "Let us begin first with the Google Play dataset. Looking at the dedicated discussion section on [Kaggle](https://www.kaggle.com/lava18/google-play-store-apps/discussion), there is a [thread](https://www.kaggle.com/lava18/google-play-store-apps/discussion/66015) that identified an app that was missing an entry under the _rating_ column. If this is the case, then in order to find the row index of the app, an approach we can consider is comparing each row's length with the length of the header row and consequently finding those with shorter length."
   ]
  },
  {
   "cell_type": "code",
   "execution_count": 6,
   "metadata": {
    "collapsed": false
   },
   "outputs": [
    {
     "name": "stdout",
     "output_type": "stream",
     "text": [
      "['App', 'Category', 'Rating', 'Reviews', 'Size', 'Installs', 'Type', 'Price', 'Content Rating', 'Genres', 'Last Updated', 'Current Ver', 'Android Ver']\n",
      "\n",
      "\n",
      "['Life Made WI-Fi Touchscreen Photo Frame', '1.9', '19', '3.0M', '1,000+', 'Free', '0', 'Everyone', '', 'February 11, 2018', '1.0.19', '4.0 and up']\n",
      "\n",
      "\n",
      "Row with index 10473 length is 12 instead of 13 !\n"
     ]
    }
   ],
   "source": [
    "# Length of header row\n",
    "header_length = len(goog_play[0]) # 13 columns\n",
    "\n",
    "# Iterating over each row\n",
    "for row in goog_play[1:]:\n",
    "    row_length = len(row)\n",
    "    if row_length != header_length:\n",
    "        print(goog_play[0])\n",
    "        print(\"\\n\")\n",
    "        print(row)\n",
    "        print(\"\\n\")\n",
    "        print(\"Row with index\", goog_play.index(row), \"length is\", row_length, \"instead of\", header_length, \"!\")        "
   ]
  },
  {
   "cell_type": "markdown",
   "metadata": {},
   "source": [
    "As we can see, what really occurred is that the app was missing an entry for the _category_ column and all the other entries shifted to the left, column-wise. Let's look at the surrounding rows to check if this is indeed the case."
   ]
  },
  {
   "cell_type": "code",
   "execution_count": 7,
   "metadata": {
    "collapsed": false
   },
   "outputs": [
    {
     "name": "stdout",
     "output_type": "stream",
     "text": [
      "['Xposed Wi-Fi-Pwd', 'PERSONALIZATION', '3.5', '1042', '404k', '100,000+', 'Free', '0', 'Everyone', 'Personalization', 'August 5, 2014', '3.0.0', '4.0.3 and up']\n",
      "\n",
      "\n",
      "['Life Made WI-Fi Touchscreen Photo Frame', '1.9', '19', '3.0M', '1,000+', 'Free', '0', 'Everyone', '', 'February 11, 2018', '1.0.19', '4.0 and up']\n",
      "\n",
      "\n",
      "['osmino Wi-Fi: free WiFi', 'TOOLS', '4.2', '134203', '4.1M', '10,000,000+', 'Free', '0', 'Everyone', 'Tools', 'August 7, 2018', '6.06.14', '4.4 and up']\n"
     ]
    }
   ],
   "source": [
    "print(goog_play[10472])\n",
    "print(\"\\n\")\n",
    "print(goog_play[10473])\n",
    "print(\"\\n\")\n",
    "print(goog_play[10474])"
   ]
  },
  {
   "cell_type": "markdown",
   "metadata": {},
   "source": [
    "For now, let's remove this row using the __del__ statement, making sure we only run this once."
   ]
  },
  {
   "cell_type": "code",
   "execution_count": 8,
   "metadata": {
    "collapsed": false
   },
   "outputs": [
    {
     "name": "stdout",
     "output_type": "stream",
     "text": [
      "['osmino Wi-Fi: free WiFi', 'TOOLS', '4.2', '134203', '4.1M', '10,000,000+', 'Free', '0', 'Everyone', 'Tools', 'August 7, 2018', '6.06.14', '4.4 and up']\n"
     ]
    }
   ],
   "source": [
    "del goog_play[10473]\n",
    "print(goog_play[10473])"
   ]
  },
  {
   "cell_type": "markdown",
   "metadata": {},
   "source": [
    "We can also check for duplicate entries and get the total number of duplicate cases. For now, we'll use app names as the basis for duplicates."
   ]
  },
  {
   "cell_type": "code",
   "execution_count": 9,
   "metadata": {
    "collapsed": false,
    "scrolled": true
   },
   "outputs": [
    {
     "name": "stdout",
     "output_type": "stream",
     "text": [
      "# of Duplicates: 1181\n",
      "\n",
      "\n",
      "Some Duplicate Apps: ['Box', 'Google My Business', 'ZOOM Cloud Meetings', 'join.me - Simple Meetings']\n"
     ]
    }
   ],
   "source": [
    "dups_apps = []\n",
    "uniq_apps = []\n",
    "\n",
    "for row in goog_play[1:]:\n",
    "    name = row[0] # Recall that the first column describes the name of the app\n",
    "    if name in uniq_apps:\n",
    "        dups_apps.append(name)\n",
    "    else:\n",
    "        uniq_apps.append(name)\n",
    "\n",
    "print(\"# of Duplicates:\", len(dups_apps))\n",
    "print(\"\\n\")\n",
    "print(\"Some Duplicate Apps:\", dups_apps[1:5])"
   ]
  },
  {
   "cell_type": "markdown",
   "metadata": {},
   "source": [
    "Thus, there are __1,181__ cases where an app name is seen more than once. While the names are the same, we can check if the values in the other columns for these apps differ and use those differences to choose which row to keep. Let's take _Instagram_ for example:"
   ]
  },
  {
   "cell_type": "code",
   "execution_count": 10,
   "metadata": {
    "collapsed": false
   },
   "outputs": [
    {
     "name": "stdout",
     "output_type": "stream",
     "text": [
      "['Instagram', 'SOCIAL', '4.5', '66577313', 'Varies with device', '1,000,000,000+', 'Free', '0', 'Teen', 'Social', 'July 31, 2018', 'Varies with device', 'Varies with device']\n",
      "['Instagram', 'SOCIAL', '4.5', '66577446', 'Varies with device', '1,000,000,000+', 'Free', '0', 'Teen', 'Social', 'July 31, 2018', 'Varies with device', 'Varies with device']\n",
      "['Instagram', 'SOCIAL', '4.5', '66577313', 'Varies with device', '1,000,000,000+', 'Free', '0', 'Teen', 'Social', 'July 31, 2018', 'Varies with device', 'Varies with device']\n",
      "['Instagram', 'SOCIAL', '4.5', '66509917', 'Varies with device', '1,000,000,000+', 'Free', '0', 'Teen', 'Social', 'July 31, 2018', 'Varies with device', 'Varies with device']\n"
     ]
    }
   ],
   "source": [
    "for row in goog_play[1:]:\n",
    "    name = row[0]\n",
    "    if name == 'Instagram':\n",
    "        print(row)"
   ]
  },
  {
   "cell_type": "markdown",
   "metadata": {},
   "source": [
    "While this may not be the case for all the duplicate cases, the _Instagram_ app duplicates have different values under the _Reviews_ column, which is the count of the reviews for that app. Logic dictates that the app with the most number of reviews corresponds to the most recent version of the app, and is thus the row that should be kept.\n",
    "\n",
    "To remove the duplicates using this criterion, we do the following:\n",
    "- Create a dictionary where each key corresponds to a unique app name, while the dictionary value is the highest number of reviews for that app.\n",
    "- Create a new dataset using this dictionary"
   ]
  },
  {
   "cell_type": "code",
   "execution_count": 11,
   "metadata": {
    "collapsed": false
   },
   "outputs": [
    {
     "name": "stdout",
     "output_type": "stream",
     "text": [
      "# of Reviews for Instagram: 66577446.0\n",
      "Length of dictionary: 9659\n"
     ]
    }
   ],
   "source": [
    "reviews_max = {}\n",
    "\n",
    "for row in goog_play[1:]:\n",
    "    name = row[0]\n",
    "    n_reviews = float(row[3])\n",
    "    if name in reviews_max and reviews_max[name] < n_reviews:\n",
    "        reviews_max[name] = n_reviews\n",
    "    if name not in reviews_max:\n",
    "        reviews_max[name] = n_reviews\n",
    "\n",
    "print(\"# of Reviews for Instagram:\", reviews_max[\"Instagram\"])\n",
    "print(\"Length of dictionary:\", len(reviews_max))        "
   ]
  },
  {
   "cell_type": "markdown",
   "metadata": {},
   "source": [
    "As we can see, the length of the dictionary is now shorter since we removed duplicates, and that the number of reviews for _Instagram_ used was the maximum among its duplicates (66577313, __66577446__, 66577313, 66509917).\n",
    "\n",
    "Let's now create a cleaned dataset using this dictionary. For this, we create a list __android_clean__ that we will populate with rows from the original dataset removing duplicates based on the resulting dictionary that used the criterion above. We also create another list __already_added__ which accounts for duplicate account names with the same number of reviews for each (see app _Box_ for example). Without this list and the accompanying logic in the code, we would still be including duplicate apps."
   ]
  },
  {
   "cell_type": "code",
   "execution_count": 12,
   "metadata": {
    "collapsed": false,
    "scrolled": false
   },
   "outputs": [
    {
     "name": "stdout",
     "output_type": "stream",
     "text": [
      "Length of Cleaned Dataset: 9659\n",
      "\n",
      "\n",
      "['Photo Editor & Candy Camera & Grid & ScrapBook', 'ART_AND_DESIGN', '4.1', '159', '19M', '10,000+', 'Free', '0', 'Everyone', 'Art & Design', 'January 7, 2018', '1.0.0', '4.0.3 and up']\n",
      "\n",
      "\n",
      "['U Launcher Lite – FREE Live Cool Themes, Hide Apps', 'ART_AND_DESIGN', '4.7', '87510', '8.7M', '5,000,000+', 'Free', '0', 'Everyone', 'Art & Design', 'August 1, 2018', '1.2.4', '4.0.3 and up']\n",
      "\n",
      "\n",
      "['Sketch - Draw & Paint', 'ART_AND_DESIGN', '4.5', '215644', '25M', '50,000,000+', 'Free', '0', 'Teen', 'Art & Design', 'June 8, 2018', 'Varies with device', '4.2 and up']\n",
      "\n",
      "\n",
      "['Pixel Draw - Number Art Coloring Book', 'ART_AND_DESIGN', '4.3', '967', '2.8M', '100,000+', 'Free', '0', 'Everyone', 'Art & Design;Creativity', 'June 20, 2018', '1.1', '4.4 and up']\n",
      "\n",
      "\n",
      "Number of rows: 9659\n",
      "Number of columns: 13\n"
     ]
    }
   ],
   "source": [
    "android_clean = []\n",
    "already_added = []\n",
    "\n",
    "for row in goog_play[1:]:\n",
    "    name = row[0]\n",
    "    n_reviews = float(row[3])\n",
    "    if n_reviews == reviews_max[name] and name not in already_added:\n",
    "        android_clean.append(row)\n",
    "        already_added.append(name)\n",
    "        \n",
    "print(\"Length of Cleaned Dataset:\", len(android_clean))\n",
    "print(\"\\n\")\n",
    "explore_data(android_clean, 0, 4, True)\n"
   ]
  },
  {
   "cell_type": "markdown",
   "metadata": {},
   "source": [
    "The length of the resulting dataset is now the same as the length of the dictionary. "
   ]
  },
  {
   "cell_type": "markdown",
   "metadata": {},
   "source": [
    "Looking at the dedicated discussion section for the App Store dataset on [Kaggle](https://www.kaggle.com/ramamet4/app-store-apple-data-set-10k-apps/discussion), there seems to be a [thread](https://www.kaggle.com/ramamet4/app-store-apple-data-set-10k-apps/discussion/90409) describing possible duplicate rows. According to user Garrett Mayock:\n",
    "> It looks like two apps appear twice in the data. 'Mannequin Challenge' and 'VR Roller Coaster' are the two non-unique values in the 'track_name' column.\n",
    "\n",
    "> Both apps appear to have a change in 'id', 'size', and the ratings, an increase in 'ver' and 'rating_count_tot', and a change in 'sup_devices.num' and 'ipadSc_urls.num'. 'Mannequin Challenge' also appears to have a higher content rating (9+ instead of 4+).\n",
    "\n",
    "Further discussion in the thread, however, reveals that the aforementioned apps do not have duplicates. That is, aside from the same names, further research and logical reasoning allow us to conclude that these apps are different from each other (see [this](https://www.kaggle.com/ramamet4/app-store-apple-data-set-10k-apps/discussion/90409#535304) and [this](https://www.kaggle.com/ramamet4/app-store-apple-data-set-10k-apps/discussion/90409#564686) posts)."
   ]
  },
  {
   "cell_type": "markdown",
   "metadata": {},
   "source": [
    "### II. Non-English Apps\n",
    "\n",
    "To check for non-English apps, we can look at each app name as a string or a series of individual characters, and check if those characters belong to a group of commonly used characters in English such as the English alphabet, numbers 0 to 9, punctuation marks, and others. \n",
    "\n",
    "We first write a function that iterates over each character in a string (in our case, the app names) and returns __False__ if there is a character that does not seem to belong in our desired set of English characters, and __True__ otherwise. We use the built-in __ord()__ function to do this."
   ]
  },
  {
   "cell_type": "code",
   "execution_count": 13,
   "metadata": {
    "collapsed": false
   },
   "outputs": [
    {
     "name": "stdout",
     "output_type": "stream",
     "text": [
      "True\n",
      "False\n",
      "True\n",
      "True\n",
      "False\n",
      "True\n"
     ]
    }
   ],
   "source": [
    "def english(string):\n",
    "    trigger = 0\n",
    "    for character in string:\n",
    "        if ord(character) > 127:\n",
    "            trigger += 1\n",
    "        if trigger > 3:\n",
    "            return False\n",
    "    return True\n",
    "\n",
    "print(english('Instagram')) # True\n",
    "print(english('爱奇艺PPS -《欢乐颂2》电视剧热播')) # False\n",
    "print(english('Docs To Go™ Free Office Suite')) # True\n",
    "print(english('Docs To Go™™™ Free Office Suite')) # True\n",
    "print(english('Docs To Go™™™™ Free Office Suite')) # False\n",
    "print(english('Instachat 😜')) # True"
   ]
  },
  {
   "cell_type": "markdown",
   "metadata": {},
   "source": [
    "We now loop through the datasets and append only rows with app names identified as English in a separate list."
   ]
  },
  {
   "cell_type": "code",
   "execution_count": 14,
   "metadata": {
    "collapsed": false
   },
   "outputs": [
    {
     "name": "stdout",
     "output_type": "stream",
     "text": [
      "['App', 'Category', 'Rating', 'Reviews', 'Size', 'Installs', 'Type', 'Price', 'Content Rating', 'Genres', 'Last Updated', 'Current Ver', 'Android Ver']\n",
      "\n",
      "\n",
      "['Photo Editor & Candy Camera & Grid & ScrapBook', 'ART_AND_DESIGN', '4.1', '159', '19M', '10,000+', 'Free', '0', 'Everyone', 'Art & Design', 'January 7, 2018', '1.0.0', '4.0.3 and up']\n",
      "\n",
      "\n",
      "['U Launcher Lite – FREE Live Cool Themes, Hide Apps', 'ART_AND_DESIGN', '4.7', '87510', '8.7M', '5,000,000+', 'Free', '0', 'Everyone', 'Art & Design', 'August 1, 2018', '1.2.4', '4.0.3 and up']\n",
      "\n",
      "\n",
      "['Sketch - Draw & Paint', 'ART_AND_DESIGN', '4.5', '215644', '25M', '50,000,000+', 'Free', '0', 'Teen', 'Art & Design', 'June 8, 2018', 'Varies with device', '4.2 and up']\n",
      "\n",
      "\n",
      "Number of rows: 9615\n",
      "Number of columns: 13\n",
      "\n",
      "\n",
      "['id', 'track_name', 'size_bytes', 'currency', 'price', 'rating_count_tot', 'rating_count_ver', 'user_rating', 'user_rating_ver', 'ver', 'cont_rating', 'prime_genre', 'sup_devices.num', 'ipadSc_urls.num', 'lang.num', 'vpp_lic']\n",
      "\n",
      "\n",
      "['284882215', 'Facebook', '389879808', 'USD', '0.0', '2974676', '212', '3.5', '3.5', '95.0', '4+', 'Social Networking', '37', '1', '29', '1']\n",
      "\n",
      "\n",
      "['389801252', 'Instagram', '113954816', 'USD', '0.0', '2161558', '1289', '4.5', '4.0', '10.23', '12+', 'Photo & Video', '37', '0', '29', '1']\n",
      "\n",
      "\n",
      "['529479190', 'Clash of Clans', '116476928', 'USD', '0.0', '2130805', '579', '4.5', '4.5', '9.24.12', '9+', 'Games', '38', '5', '18', '1']\n",
      "\n",
      "\n",
      "Number of rows: 6184\n",
      "Number of columns: 16\n"
     ]
    }
   ],
   "source": [
    "semifinal_googplay = [goog_play[0]]\n",
    "semifinal_appstore = [app_store[0]]\n",
    "\n",
    "for row in android_clean:\n",
    "    if english(row[0]):\n",
    "        semifinal_googplay.append(row)\n",
    "        \n",
    "for row in app_store[1:]:\n",
    "    if english(row[1]):\n",
    "        semifinal_appstore.append(row)\n",
    "        \n",
    "# Exploring the resulting datasets\n",
    "explore_data(semifinal_googplay, 0, 4, True)\n",
    "print(\"\\n\")\n",
    "explore_data(semifinal_appstore, 0, 4, True)"
   ]
  },
  {
   "cell_type": "markdown",
   "metadata": {},
   "source": [
    "### III. Free Apps Only\n",
    "\n",
    "Finally, we extract only the __free__ apps in both datasets. For the Google Play dataset, we'll refer to the _Price_ column, and for the App Store dataset, we'll look at the _price_ column."
   ]
  },
  {
   "cell_type": "code",
   "execution_count": 15,
   "metadata": {
    "collapsed": false
   },
   "outputs": [
    {
     "name": "stdout",
     "output_type": "stream",
     "text": [
      "FINAL CLEANED GOOGLE PLAY DATASET\n",
      "['App', 'Category', 'Rating', 'Reviews', 'Size', 'Installs', 'Type', 'Price', 'Content Rating', 'Genres', 'Last Updated', 'Current Ver', 'Android Ver']\n",
      "\n",
      "\n",
      "['Photo Editor & Candy Camera & Grid & ScrapBook', 'ART_AND_DESIGN', '4.1', '159', '19M', '10,000+', 'Free', '0', 'Everyone', 'Art & Design', 'January 7, 2018', '1.0.0', '4.0.3 and up']\n",
      "\n",
      "\n",
      "['U Launcher Lite – FREE Live Cool Themes, Hide Apps', 'ART_AND_DESIGN', '4.7', '87510', '8.7M', '5,000,000+', 'Free', '0', 'Everyone', 'Art & Design', 'August 1, 2018', '1.2.4', '4.0.3 and up']\n",
      "\n",
      "\n",
      "['Sketch - Draw & Paint', 'ART_AND_DESIGN', '4.5', '215644', '25M', '50,000,000+', 'Free', '0', 'Teen', 'Art & Design', 'June 8, 2018', 'Varies with device', '4.2 and up']\n",
      "\n",
      "\n",
      "Number of rows: 8864\n",
      "Number of columns: 13\n",
      "\n",
      "\n",
      "FINAL CLEANED APP STORE DATASET\n",
      "['id', 'track_name', 'size_bytes', 'currency', 'price', 'rating_count_tot', 'rating_count_ver', 'user_rating', 'user_rating_ver', 'ver', 'cont_rating', 'prime_genre', 'sup_devices.num', 'ipadSc_urls.num', 'lang.num', 'vpp_lic']\n",
      "\n",
      "\n",
      "['284882215', 'Facebook', '389879808', 'USD', '0.0', '2974676', '212', '3.5', '3.5', '95.0', '4+', 'Social Networking', '37', '1', '29', '1']\n",
      "\n",
      "\n",
      "['389801252', 'Instagram', '113954816', 'USD', '0.0', '2161558', '1289', '4.5', '4.0', '10.23', '12+', 'Photo & Video', '37', '0', '29', '1']\n",
      "\n",
      "\n",
      "['529479190', 'Clash of Clans', '116476928', 'USD', '0.0', '2130805', '579', '4.5', '4.5', '9.24.12', '9+', 'Games', '38', '5', '18', '1']\n",
      "\n",
      "\n",
      "Number of rows: 3223\n",
      "Number of columns: 16\n"
     ]
    }
   ],
   "source": [
    "final_googplay = [goog_play[0]]\n",
    "final_appstore = [app_store[0]]\n",
    "\n",
    "for row in semifinal_googplay[1:]:\n",
    "    if row[6] == 'Free':\n",
    "        final_googplay.append(row)\n",
    "        \n",
    "for row in semifinal_appstore[1:]:\n",
    "    if row[4] == \"0.0\":\n",
    "        final_appstore.append(row)\n",
    "        \n",
    "print(\"FINAL CLEANED GOOGLE PLAY DATASET\")\n",
    "explore_data(final_googplay, 0, 4, True)\n",
    "print(\"\\n\")\n",
    "print(\"FINAL CLEANED APP STORE DATASET\")\n",
    "explore_data(final_appstore, 0, 4, True)\n"
   ]
  },
  {
   "cell_type": "markdown",
   "metadata": {},
   "source": [
    "After removing inaccurate data, duplicate app cases, non-English apps, and non-free apps, our final datasets include __8,864__ Android apps and __3,223__ iOS apps.\n",
    "\n",
    "We are now ready to proceed with the analysis."
   ]
  },
  {
   "cell_type": "markdown",
   "metadata": {},
   "source": [
    "## Analysis of Google Play and App Store Apps\n",
    "---\n",
    "As a recall, our goal for this project is to analyze data to help our developers understand what type of apps are likely to attract more users wherein revenue is largely influenced by the number of people using the apps.\n",
    "\n",
    "To minimize risks and overhead, our validation strategy for an app idea is comprised of three steps:\n",
    "\n",
    "1. Build a minimal Android version of the app, and add it to Google Play.\n",
    "2. If the app has a good response from users, we develop it further.\n",
    "3. If the app is profitable after six months, we build an iOS version of the app and add it to the App Store.\n",
    "\n",
    "We would want to find app profiles that are successful on both the App Store and Google Play since our end goal is to have the app be on both markets. \n",
    "\n",
    "### I. Most Frequent Genres\n",
    "\n",
    "We begin by looking at which genres are most frequently occuring by building frequency tables. Specifically, we build a table for the __prime_genre__ column of the App Store dataset, as well as for the __Category__ and __Genres__ columns of the Google Play dataset."
   ]
  },
  {
   "cell_type": "code",
   "execution_count": 16,
   "metadata": {
    "collapsed": false
   },
   "outputs": [
    {
     "name": "stdout",
     "output_type": "stream",
     "text": [
      "['id', 'track_name', 'size_bytes', 'currency', 'price', 'rating_count_tot', 'rating_count_ver', 'user_rating', 'user_rating_ver', 'ver', 'cont_rating', 'prime_genre', 'sup_devices.num', 'ipadSc_urls.num', 'lang.num', 'vpp_lic']\n",
      "\n",
      "\n",
      "['App', 'Category', 'Rating', 'Reviews', 'Size', 'Installs', 'Type', 'Price', 'Content Rating', 'Genres', 'Last Updated', 'Current Ver', 'Android Ver']\n"
     ]
    }
   ],
   "source": [
    "print(app_store[0])\n",
    "print(\"\\n\")\n",
    "print(goog_play[0])"
   ]
  },
  {
   "cell_type": "markdown",
   "metadata": {},
   "source": [
    "We first create a function for generating frequency tables. Afterwards, we make use of another function that displays the data in a sorted fashion."
   ]
  },
  {
   "cell_type": "code",
   "execution_count": 17,
   "metadata": {
    "collapsed": false
   },
   "outputs": [],
   "source": [
    "def freq_table(dataset, index):\n",
    "    freqtable = {}\n",
    "    total_number = 0\n",
    "    \n",
    "    for row in dataset:\n",
    "        total_number += 1\n",
    "        col = row[index]\n",
    "        if col in freqtable:\n",
    "            freqtable[col] += 1\n",
    "        else:\n",
    "            freqtable[col] = 1\n",
    "    \n",
    "    for key in freqtable:\n",
    "        freqtable[key] = round((freqtable[key]/total_number)*100, 2)\n",
    "    \n",
    "    return freqtable   \n",
    "        \n",
    "def display_table(dataset, index):\n",
    "    table = freq_table(dataset, index)\n",
    "    table_display = []\n",
    "    for key in table:\n",
    "        key_val_as_tuple = (table[key], key)\n",
    "        table_display.append(key_val_as_tuple)\n",
    "\n",
    "    table_sorted = sorted(table_display, reverse = True)\n",
    "    for entry in table_sorted:\n",
    "        print(entry[1], ':', entry[0])"
   ]
  },
  {
   "cell_type": "markdown",
   "metadata": {},
   "source": [
    "##### App Store: prime_genre\n",
    "\n",
    "Let's take a look at the App Store dataset first since we're concerned with only one column."
   ]
  },
  {
   "cell_type": "code",
   "execution_count": 42,
   "metadata": {
    "collapsed": false
   },
   "outputs": [
    {
     "name": "stdout",
     "output_type": "stream",
     "text": [
      "Games : 58.16\n",
      "Entertainment : 7.88\n",
      "Photo & Video : 4.97\n",
      "Education : 3.66\n",
      "Social Networking : 3.29\n",
      "Shopping : 2.61\n",
      "Utilities : 2.51\n",
      "Sports : 2.14\n",
      "Music : 2.05\n",
      "Health & Fitness : 2.02\n",
      "Productivity : 1.74\n",
      "Lifestyle : 1.58\n",
      "News : 1.33\n",
      "Travel : 1.24\n",
      "Finance : 1.12\n",
      "Weather : 0.87\n",
      "Food & Drink : 0.81\n",
      "Reference : 0.56\n",
      "Business : 0.53\n",
      "Book : 0.43\n",
      "Navigation : 0.19\n",
      "Medical : 0.19\n",
      "Catalogs : 0.12\n"
     ]
    }
   ],
   "source": [
    "display_table(final_appstore[1:], 11) # prime_genre column"
   ]
  },
  {
   "cell_type": "markdown",
   "metadata": {},
   "source": [
    "Among the free English apps in the App Store, more than half are __Games__ at 58.16%. A large difference is seen between this genre and the next in the sorted list which is __Entertainment__ at 7.88%. Looking at the top five genres, most are focused on recreation and pleasure (Games, Entertainment, Photo & Video, and Social Networking) with only __Education__ as the genre meant for productivity making it into the top five.\n",
    "\n",
    "It is also worth noticing that among the genres, those in the upper half are whose apps offer a lot of customization and focus on individual experiences. There may be however an element of sharing and community that also affects app creation under these genres. Having a large number of apps for a certain genre however does not imply a large number of users.\n",
    "\n",
    "Let's move on to the Google Play dataset.\n",
    "\n",
    "##### Google Play: Category"
   ]
  },
  {
   "cell_type": "code",
   "execution_count": 19,
   "metadata": {
    "collapsed": false
   },
   "outputs": [
    {
     "name": "stdout",
     "output_type": "stream",
     "text": [
      "FAMILY : 18.9\n",
      "GAME : 9.73\n",
      "TOOLS : 8.46\n",
      "BUSINESS : 4.59\n",
      "LIFESTYLE : 3.9\n",
      "PRODUCTIVITY : 3.89\n",
      "FINANCE : 3.7\n",
      "MEDICAL : 3.53\n",
      "SPORTS : 3.4\n",
      "PERSONALIZATION : 3.32\n",
      "COMMUNICATION : 3.24\n",
      "HEALTH_AND_FITNESS : 3.08\n",
      "PHOTOGRAPHY : 2.94\n",
      "NEWS_AND_MAGAZINES : 2.8\n",
      "SOCIAL : 2.66\n",
      "TRAVEL_AND_LOCAL : 2.34\n",
      "SHOPPING : 2.25\n",
      "BOOKS_AND_REFERENCE : 2.14\n",
      "DATING : 1.86\n",
      "VIDEO_PLAYERS : 1.79\n",
      "MAPS_AND_NAVIGATION : 1.4\n",
      "FOOD_AND_DRINK : 1.24\n",
      "EDUCATION : 1.16\n",
      "ENTERTAINMENT : 0.96\n",
      "LIBRARIES_AND_DEMO : 0.94\n",
      "AUTO_AND_VEHICLES : 0.93\n",
      "HOUSE_AND_HOME : 0.82\n",
      "WEATHER : 0.8\n",
      "EVENTS : 0.71\n",
      "PARENTING : 0.65\n",
      "ART_AND_DESIGN : 0.64\n",
      "COMICS : 0.62\n",
      "BEAUTY : 0.6\n"
     ]
    }
   ],
   "source": [
    "display_table(final_googplay[1:], 1) # Category column"
   ]
  },
  {
   "cell_type": "markdown",
   "metadata": {},
   "source": [
    "Among the free English apps in the Google Playstore, the most frequently occuring _category_ is __FAMILY (18.9%)__ followed by __GAME (9.73%)__ and __TOOLS (8.46%)__. The distribution is noticeably different from that of the App Store with a significant lead in the number of apps made for productivity and practical purposes. The leading category of family-oriented apps may be referring to games as well.\n",
    "\n",
    "##### Google Play: genres"
   ]
  },
  {
   "cell_type": "code",
   "execution_count": 20,
   "metadata": {
    "collapsed": false,
    "scrolled": false
   },
   "outputs": [
    {
     "name": "stdout",
     "output_type": "stream",
     "text": [
      "Tools : 8.45\n",
      "Entertainment : 6.07\n",
      "Education : 5.35\n",
      "Business : 4.59\n",
      "Productivity : 3.89\n",
      "Lifestyle : 3.89\n",
      "Finance : 3.7\n",
      "Medical : 3.53\n",
      "Sports : 3.46\n",
      "Personalization : 3.32\n",
      "Communication : 3.24\n",
      "Action : 3.1\n",
      "Health & Fitness : 3.08\n",
      "Photography : 2.94\n",
      "News & Magazines : 2.8\n",
      "Social : 2.66\n",
      "Travel & Local : 2.32\n",
      "Shopping : 2.25\n",
      "Books & Reference : 2.14\n",
      "Simulation : 2.04\n",
      "Dating : 1.86\n",
      "Arcade : 1.85\n",
      "Video Players & Editors : 1.77\n",
      "Casual : 1.76\n",
      "Maps & Navigation : 1.4\n",
      "Food & Drink : 1.24\n",
      "Puzzle : 1.13\n",
      "Racing : 0.99\n",
      "Role Playing : 0.94\n",
      "Libraries & Demo : 0.94\n",
      "Auto & Vehicles : 0.93\n",
      "Strategy : 0.9\n",
      "House & Home : 0.82\n",
      "Weather : 0.8\n",
      "Events : 0.71\n",
      "Adventure : 0.68\n",
      "Comics : 0.61\n",
      "Beauty : 0.6\n",
      "Art & Design : 0.6\n",
      "Parenting : 0.5\n",
      "Card : 0.45\n",
      "Casino : 0.43\n",
      "Trivia : 0.42\n",
      "Educational;Education : 0.39\n",
      "Board : 0.38\n",
      "Educational : 0.37\n",
      "Education;Education : 0.34\n",
      "Word : 0.26\n",
      "Casual;Pretend Play : 0.24\n",
      "Music : 0.2\n",
      "Racing;Action & Adventure : 0.17\n",
      "Puzzle;Brain Games : 0.17\n",
      "Entertainment;Music & Video : 0.17\n",
      "Casual;Brain Games : 0.14\n",
      "Casual;Action & Adventure : 0.14\n",
      "Arcade;Action & Adventure : 0.12\n",
      "Action;Action & Adventure : 0.1\n",
      "Educational;Pretend Play : 0.09\n",
      "Simulation;Action & Adventure : 0.08\n",
      "Parenting;Education : 0.08\n",
      "Entertainment;Brain Games : 0.08\n",
      "Board;Brain Games : 0.08\n",
      "Parenting;Music & Video : 0.07\n",
      "Educational;Brain Games : 0.07\n",
      "Casual;Creativity : 0.07\n",
      "Art & Design;Creativity : 0.07\n",
      "Education;Pretend Play : 0.06\n",
      "Role Playing;Pretend Play : 0.05\n",
      "Education;Creativity : 0.05\n",
      "Role Playing;Action & Adventure : 0.03\n",
      "Puzzle;Action & Adventure : 0.03\n",
      "Entertainment;Creativity : 0.03\n",
      "Entertainment;Action & Adventure : 0.03\n",
      "Educational;Creativity : 0.03\n",
      "Educational;Action & Adventure : 0.03\n",
      "Education;Music & Video : 0.03\n",
      "Education;Brain Games : 0.03\n",
      "Education;Action & Adventure : 0.03\n",
      "Adventure;Action & Adventure : 0.03\n",
      "Video Players & Editors;Music & Video : 0.02\n",
      "Sports;Action & Adventure : 0.02\n",
      "Simulation;Pretend Play : 0.02\n",
      "Puzzle;Creativity : 0.02\n",
      "Music;Music & Video : 0.02\n",
      "Entertainment;Pretend Play : 0.02\n",
      "Casual;Education : 0.02\n",
      "Board;Action & Adventure : 0.02\n",
      "Video Players & Editors;Creativity : 0.01\n",
      "Trivia;Education : 0.01\n",
      "Travel & Local;Action & Adventure : 0.01\n",
      "Tools;Education : 0.01\n",
      "Strategy;Education : 0.01\n",
      "Strategy;Creativity : 0.01\n",
      "Strategy;Action & Adventure : 0.01\n",
      "Simulation;Education : 0.01\n",
      "Role Playing;Brain Games : 0.01\n",
      "Racing;Pretend Play : 0.01\n",
      "Puzzle;Education : 0.01\n",
      "Parenting;Brain Games : 0.01\n",
      "Music & Audio;Music & Video : 0.01\n",
      "Lifestyle;Pretend Play : 0.01\n",
      "Lifestyle;Education : 0.01\n",
      "Health & Fitness;Education : 0.01\n",
      "Health & Fitness;Action & Adventure : 0.01\n",
      "Entertainment;Education : 0.01\n",
      "Communication;Creativity : 0.01\n",
      "Comics;Creativity : 0.01\n",
      "Casual;Music & Video : 0.01\n",
      "Card;Action & Adventure : 0.01\n",
      "Books & Reference;Education : 0.01\n",
      "Art & Design;Pretend Play : 0.01\n",
      "Art & Design;Action & Adventure : 0.01\n",
      "Arcade;Pretend Play : 0.01\n",
      "Adventure;Education : 0.01\n"
     ]
    }
   ],
   "source": [
    "display_table(final_googplay[1:], 9) # genres column"
   ]
  },
  {
   "cell_type": "markdown",
   "metadata": {},
   "source": [
    "Among the free English apps in the Google Playstore, the most frequently occuring _genre_ is __Tools (8.45%)__ followed by __Entertainment (6.07%)__ and __Education (5.35%)__. For this column, there are more categories, and its difference with the __Category__ column is not clear. \n",
    "\n",
    "Overall, the apps in our App Store dataset seem to most frequently belong in genres meant for entertainment while those in the Google Play dataset offer a more balanced distribution between apps for productivity and apps for recreation."
   ]
  },
  {
   "cell_type": "markdown",
   "metadata": {},
   "source": [
    "### II. Most Popular (by Install Count)\n",
    "\n",
    "For this part of the analysis, we will look at each genre by the amount of users. Specifically, we calculate the average number of installs for each app genre. This can be seen under the __Installs__ column in the Google Play dataset, while for the App Store dataset, we will use __rating_count_tot__ as a proxy variable since there is no direct variable for the number of installs per app.\n",
    "\n",
    "##### App Store"
   ]
  },
  {
   "cell_type": "code",
   "execution_count": 21,
   "metadata": {
    "collapsed": false
   },
   "outputs": [
    {
     "name": "stdout",
     "output_type": "stream",
     "text": [
      "Photo & Video : 28441.54\n",
      "Navigation : 86090.33\n",
      "Education : 7003.98\n",
      "Entertainment : 14029.83\n",
      "Book : 39758.5\n",
      "Food & Drink : 33333.92\n",
      "Utilities : 18684.46\n",
      "Shopping : 26919.69\n",
      "Business : 7491.12\n",
      "Weather : 52279.89\n",
      "Health & Fitness : 23298.02\n",
      "Medical : 612.0\n",
      "Finance : 31467.94\n",
      "Music : 57326.53\n",
      "News : 21248.02\n",
      "Reference : 74942.11\n",
      "Lifestyle : 16485.76\n",
      "Travel : 28243.8\n",
      "Productivity : 21028.41\n",
      "Social Networking : 71548.35\n",
      "Catalogs : 4004.0\n",
      "Games : 22788.67\n",
      "Sports : 23008.9\n"
     ]
    }
   ],
   "source": [
    "genre_appstore = freq_table(final_appstore[1:], 11) # rating_count_tot\n",
    "\n",
    "for genre in genre_appstore:\n",
    "    total = 0\n",
    "    len_genre = 0\n",
    "    for row in final_appstore[1:]:\n",
    "        genre_app = row[11]\n",
    "        if genre_app == genre:\n",
    "            num_ratings = float(row[5])\n",
    "            total += num_ratings\n",
    "            len_genre += 1\n",
    "    \n",
    "    ave = round(total/len_genre, 2)\n",
    "    print(genre, \":\", ave)"
   ]
  },
  {
   "cell_type": "markdown",
   "metadata": {},
   "source": [
    "Using our proxy variable, we can see that the genre with the most number of users is _Navigation_ with 86,090 ratings on average followed by _Reference_ and _Social Networking_. It is worth noting that the top genres by app frequency we generated earlier now no longer belong in the top genres by user count in terms of ratings count (except for Social Networking). This supports the idea that app frequency does not offer a complete picture of app profitability. However, since we used the average, app popularity by user count also does not accurately show popularity in the sense that the top genres' numbers may be skewed by a few very popular apps. Such is the case for _Navigation_ as seen below where Waze and Google Maps seem to dominate. We also look at apps under _Reference_ and _Social Networking_."
   ]
  },
  {
   "cell_type": "code",
   "execution_count": 33,
   "metadata": {
    "collapsed": false
   },
   "outputs": [
    {
     "name": "stdout",
     "output_type": "stream",
     "text": [
      "Waze - GPS Navigation, Maps & Real-time Traffic : 345046 , 67.0 %\n",
      "Google Maps - Navigation & Transit : 154911 , 30.0 %\n",
      "Geocaching® : 12811 , 2.0 %\n",
      "CoPilot GPS – Car Navigation & Offline Maps : 3582 , 1.0 %\n",
      "ImmobilienScout24: Real Estate Search in Germany : 187 , 0.0 %\n",
      "Railway Route Search : 5 , 0.0 %\n"
     ]
    }
   ],
   "source": [
    "tot = float(0)\n",
    "for row in final_appstore[1:]:\n",
    "    if row[11] == \"Navigation\":\n",
    "        tot = tot + float(row[5])\n",
    "\n",
    "for row in final_appstore[1:]:\n",
    "    if row[11] == \"Navigation\":\n",
    "        print(row[1], \":\", row[5], \",\", round(float(row[5])/tot, 2)*100, \"%\")"
   ]
  },
  {
   "cell_type": "markdown",
   "metadata": {},
   "source": [
    "Since Waze and Google Maps account for __97%__ of the ratings count, they may seem more popular than they really are. Furthermore, the specific use of these apps do not differ much from each other, which may make it hard to introduce a new app that doesn't already do navigation with integrated traffic information as effectively as those dominating apps."
   ]
  },
  {
   "cell_type": "code",
   "execution_count": 34,
   "metadata": {
    "collapsed": false
   },
   "outputs": [
    {
     "name": "stdout",
     "output_type": "stream",
     "text": [
      "Bible : 985920 , 73.0 %\n",
      "Dictionary.com Dictionary & Thesaurus : 200047 , 15.0 %\n",
      "Dictionary.com Dictionary & Thesaurus for iPad : 54175 , 4.0 %\n",
      "Google Translate : 26786 , 2.0 %\n",
      "Muslim Pro: Ramadan 2017 Prayer Times, Azan, Quran : 18418 , 1.0 %\n",
      "New Furniture Mods - Pocket Wiki & Game Tools for Minecraft PC Edition : 17588 , 1.0 %\n",
      "Merriam-Webster Dictionary : 16849 , 1.0 %\n",
      "Night Sky : 12122 , 1.0 %\n",
      "City Maps for Minecraft PE - The Best Maps for Minecraft Pocket Edition (MCPE) : 8535 , 1.0 %\n",
      "LUCKY BLOCK MOD ™ for Minecraft PC Edition - The Best Pocket Wiki & Mods Installer Tools : 4693 , 0.0 %\n",
      "GUNS MODS for Minecraft PC Edition - Mods Tools : 1497 , 0.0 %\n",
      "Guides for Pokémon GO - Pokemon GO News and Cheats : 826 , 0.0 %\n",
      "WWDC : 762 , 0.0 %\n",
      "Horror Maps for Minecraft PE - Download The Scariest Maps for Minecraft Pocket Edition (MCPE) Free : 718 , 0.0 %\n",
      "VPN Express : 14 , 0.0 %\n",
      "Real Bike Traffic Rider Virtual Reality Glasses : 8 , 0.0 %\n",
      "教えて!goo : 0 , 0.0 %\n",
      "Jishokun-Japanese English Dictionary & Translator : 0 , 0.0 %\n"
     ]
    }
   ],
   "source": [
    "tot = float(0)\n",
    "for row in final_appstore[1:]:\n",
    "    if row[11] == \"Reference\":\n",
    "        tot = tot + float(row[5])\n",
    "\n",
    "for row in final_appstore[1:]:\n",
    "    if row[11] == \"Reference\":\n",
    "        print(row[1], \":\", row[5], \",\", round(float(row[5])/tot, 2)*100, \"%\")"
   ]
  },
  {
   "cell_type": "markdown",
   "metadata": {},
   "source": [
    "This set of _Reference_ apps on the other hand, show more variation in terms of what they offer individually, and is overall interesting to work with. For example, the top few apps ranges from the Bible app, to dictionary apps, and to Google Translate. \n",
    "\n",
    "A new app could be developed that offered a Bible reading app that also integrates the ability to look up the definition of any word the user may highlight while reading. This might be helpful especially when the etymologies of the words are also provided. Lastly, this new Bible app should also provide constantly improving translations through a feedback functionality where users can rate translations."
   ]
  },
  {
   "cell_type": "code",
   "execution_count": 40,
   "metadata": {
    "collapsed": false,
    "scrolled": false
   },
   "outputs": [
    {
     "name": "stdout",
     "output_type": "stream",
     "text": [
      "Facebook : 2974676 , 39.0 %\n",
      "Pinterest : 1061624 , 14.000000000000002 %\n",
      "Skype for iPhone : 373519 , 5.0 %\n",
      "Messenger : 351466 , 5.0 %\n",
      "Tumblr : 334293 , 4.0 %\n",
      "WhatsApp Messenger : 287589 , 4.0 %\n",
      "Kik : 260965 , 3.0 %\n",
      "ooVoo – Free Video Call, Text and Voice : 177501 , 2.0 %\n",
      "TextNow - Unlimited Text + Calls : 164963 , 2.0 %\n",
      "Viber Messenger – Text & Call : 164249 , 2.0 %\n",
      "Followers - Social Analytics For Instagram : 112778 , 1.0 %\n",
      "MeetMe - Chat and Meet New People : 97072 , 1.0 %\n",
      "We Heart It - Fashion, wallpapers, quotes, tattoos : 90414 , 1.0 %\n",
      "InsTrack for Instagram - Analytics Plus More : 85535 , 1.0 %\n",
      "Tango - Free Video Call, Voice and Chat : 75412 , 1.0 %\n",
      "LinkedIn : 71856 , 1.0 %\n",
      "Match™ - #1 Dating App. : 60659 , 1.0 %\n",
      "Skype for iPad : 60163 , 1.0 %\n",
      "POF - Best Dating App for Conversations : 52642 , 1.0 %\n",
      "Timehop : 49510 , 1.0 %\n",
      "Find My Family, Friends & iPhone - Life360 Locator : 43877 , 1.0 %\n",
      "Whisper - Share, Express, Meet : 39819 , 1.0 %\n",
      "Hangouts : 36404 , 0.0 %\n",
      "LINE PLAY - Your Avatar World : 34677 , 0.0 %\n",
      "WeChat : 34584 , 0.0 %\n",
      "Badoo - Meet New People, Chat, Socialize. : 34428 , 0.0 %\n",
      "Followers + for Instagram - Follower Analytics : 28633 , 0.0 %\n",
      "GroupMe : 28260 , 0.0 %\n",
      "Marco Polo Video Walkie Talkie : 27662 , 0.0 %\n",
      "Miitomo : 23965 , 0.0 %\n",
      "SimSimi : 23530 , 0.0 %\n",
      "Grindr - Gay and same sex guys chat, meet and date : 23201 , 0.0 %\n",
      "Wishbone - Compare Anything : 20649 , 0.0 %\n",
      "imo video calls and chat : 18841 , 0.0 %\n",
      "After School - Funny Anonymous School News : 18482 , 0.0 %\n",
      "Quick Reposter - Repost, Regram and Reshare Photos : 17694 , 0.0 %\n",
      "Weibo HD : 16772 , 0.0 %\n",
      "Repost for Instagram : 15185 , 0.0 %\n",
      "Live.me – Live Video Chat & Make Friends Nearby : 14724 , 0.0 %\n",
      "Nextdoor : 14402 , 0.0 %\n",
      "Followers Analytics for Instagram - InstaReport : 13914 , 0.0 %\n",
      "YouNow: Live Stream Video Chat : 12079 , 0.0 %\n",
      "FollowMeter for Instagram - Followers Tracking : 11976 , 0.0 %\n",
      "LINE : 11437 , 0.0 %\n",
      "eHarmony™ Dating App - Meet Singles : 11124 , 0.0 %\n",
      "Discord - Chat for Gamers : 9152 , 0.0 %\n",
      "QQ : 9109 , 0.0 %\n",
      "Telegram Messenger : 7573 , 0.0 %\n",
      "Weibo : 7265 , 0.0 %\n",
      "Periscope - Live Video Streaming Around the World : 6062 , 0.0 %\n",
      "Chat for Whatsapp - iPad Version : 5060 , 0.0 %\n",
      "QQ HD : 5058 , 0.0 %\n",
      "Followers Analysis Tool For Instagram App Free : 4253 , 0.0 %\n",
      "live.ly - live video streaming : 4145 , 0.0 %\n",
      "Houseparty - Group Video Chat : 3991 , 0.0 %\n",
      "SOMA Messenger : 3232 , 0.0 %\n",
      "Monkey : 3060 , 0.0 %\n",
      "Down To Lunch : 2535 , 0.0 %\n",
      "Flinch - Video Chat Staring Contest : 2134 , 0.0 %\n",
      "Highrise - Your Avatar Community : 2011 , 0.0 %\n",
      "LOVOO - Dating Chat : 1985 , 0.0 %\n",
      "PlayStation®Messages : 1918 , 0.0 %\n",
      "BOO! - Video chat camera with filters & stickers : 1805 , 0.0 %\n",
      "Qzone : 1649 , 0.0 %\n",
      "Chatous - Chat with new people : 1609 , 0.0 %\n",
      "Kiwi - Q&A : 1538 , 0.0 %\n",
      "GhostCodes - a discovery app for Snapchat : 1313 , 0.0 %\n",
      "Jodel : 1193 , 0.0 %\n",
      "FireChat : 1037 , 0.0 %\n",
      "Google Duo - simple video calling : 1033 , 0.0 %\n",
      "Fiesta by Tango - Chat & Meet New People : 885 , 0.0 %\n",
      "Google Allo — smart messaging : 862 , 0.0 %\n",
      "Peach — share vividly : 727 , 0.0 %\n",
      "Hey! VINA - Where Women Meet New Friends : 719 , 0.0 %\n",
      "Battlefield™ Companion : 689 , 0.0 %\n",
      "All Devices for WhatsApp - Messenger for iPad : 682 , 0.0 %\n",
      "Chat for Pokemon Go - GoChat : 500 , 0.0 %\n",
      "IAmNaughty – Dating App to Meet New People Online : 463 , 0.0 %\n",
      "Qzone HD : 458 , 0.0 %\n",
      "Zenly - Locate your friends in realtime : 427 , 0.0 %\n",
      "League of Legends Friends : 420 , 0.0 %\n",
      "豆瓣 : 407 , 0.0 %\n",
      "Candid - Speak Your Mind Freely : 398 , 0.0 %\n",
      "知乎 : 397 , 0.0 %\n",
      "Selfeo : 366 , 0.0 %\n",
      "Fake-A-Location Free ™ : 354 , 0.0 %\n",
      "Popcorn Buzz - Free Group Calls : 281 , 0.0 %\n",
      "Fam — Group video calling for iMessage : 279 , 0.0 %\n",
      "QQ International : 274 , 0.0 %\n",
      "Ameba : 269 , 0.0 %\n",
      "SoundCloud Pulse: for creators : 240 , 0.0 %\n",
      "Tantan : 235 , 0.0 %\n",
      "Cougar Dating & Life Style App for Mature Women : 213 , 0.0 %\n",
      "Rawr Messenger - Dab your chat : 180 , 0.0 %\n",
      "WhenToPost: Best Time to Post Photos for Instagram : 158 , 0.0 %\n",
      "Inke—Broadcast an amazing life : 147 , 0.0 %\n",
      "Mustknow - anonymous video Q&A : 53 , 0.0 %\n",
      "CTFxCmoji : 39 , 0.0 %\n",
      "Lobi : 36 , 0.0 %\n",
      "Chain: Collaborate On MyVideo Story/Group Video : 35 , 0.0 %\n",
      "botman - Real time video chat : 7 , 0.0 %\n",
      "BestieBox : 0 , 0.0 %\n",
      "MATCH ON LINE chat : 0 , 0.0 %\n",
      "niconico ch : 0 , 0.0 %\n",
      "LINE BLOG : 0 , 0.0 %\n",
      "bit-tube - Live Stream Video Chat : 0 , 0.0 %\n"
     ]
    }
   ],
   "source": [
    "tot = float(0)\n",
    "for row in final_appstore[1:]:\n",
    "    if row[11] == \"Social Networking\":\n",
    "        tot = tot + float(row[5])\n",
    "\n",
    "for row in final_appstore[1:]:\n",
    "    if row[11] == \"Social Networking\":\n",
    "        print(row[1], \":\", row[5], \",\", round(float(row[5])/tot, 2)*100, \"%\")"
   ]
  },
  {
   "cell_type": "markdown",
   "metadata": {},
   "source": [
    "While there is a plethora of apps available under _Social Networking_, the sheer number of them intuitively makes entering an already very saturated genre a daunting task if we want to differentiate our app.\n",
    "\n",
    "An additional step we can take is removing these apps with outlying ratings count and recalculating averages. We will leave this step for a future analysis.\n",
    "\n",
    "##### Google Play\n",
    "\n",
    "For the Google Play dataset, we can directly look at the __Installs__ column to look at app popularity. However, as we see below, the values are not precise and are open-ended. Thus, for the purpose of our analysis, we will take the values as is. That is, an app that has \"1,000,000+\" installs will be regarded as having 1,000,000 installs and so on. We would need to perform some cleaning first by converting these string values as floats by removing the commas and the plus symbols."
   ]
  },
  {
   "cell_type": "code",
   "execution_count": 43,
   "metadata": {
    "collapsed": false
   },
   "outputs": [
    {
     "name": "stdout",
     "output_type": "stream",
     "text": [
      "1,000,000+ : 15.73\n",
      "100,000+ : 11.55\n",
      "10,000,000+ : 10.55\n",
      "10,000+ : 10.2\n",
      "1,000+ : 8.39\n",
      "100+ : 6.92\n",
      "5,000,000+ : 6.83\n",
      "500,000+ : 5.56\n",
      "50,000+ : 4.77\n",
      "5,000+ : 4.51\n",
      "10+ : 3.54\n",
      "500+ : 3.25\n",
      "50,000,000+ : 2.3\n",
      "100,000,000+ : 2.13\n",
      "50+ : 1.92\n",
      "5+ : 0.79\n",
      "1+ : 0.51\n",
      "500,000,000+ : 0.27\n",
      "1,000,000,000+ : 0.23\n",
      "0+ : 0.05\n"
     ]
    }
   ],
   "source": [
    "display_table(final_googplay[1:], 5) # Installs column"
   ]
  },
  {
   "cell_type": "markdown",
   "metadata": {},
   "source": [
    "We now look again at the average number of installs per category using the following loops."
   ]
  },
  {
   "cell_type": "code",
   "execution_count": 48,
   "metadata": {
    "collapsed": false
   },
   "outputs": [
    {
     "name": "stdout",
     "output_type": "stream",
     "text": [
      "BUSINESS : 1712290\n",
      "EVENTS : 253542\n",
      "WEATHER : 5074486\n",
      "NEWS_AND_MAGAZINES : 9549178\n",
      "DATING : 854029\n",
      "VIDEO_PLAYERS : 24727872\n",
      "SPORTS : 3638640\n",
      "SHOPPING : 7036877\n",
      "BEAUTY : 513152\n",
      "AUTO_AND_VEHICLES : 647318\n",
      "TRAVEL_AND_LOCAL : 13984078\n",
      "BOOKS_AND_REFERENCE : 8767812\n",
      "PERSONALIZATION : 5201483\n",
      "MEDICAL : 120551\n",
      "HOUSE_AND_HOME : 1331541\n",
      "SOCIAL : 23253652\n",
      "EDUCATION : 1833495\n",
      "HEALTH_AND_FITNESS : 4188822\n",
      "PHOTOGRAPHY : 17840110\n",
      "LIFESTYLE : 1437816\n",
      "COMICS : 817657\n",
      "ART_AND_DESIGN : 1986335\n",
      "LIBRARIES_AND_DEMO : 638504\n",
      "FINANCE : 1387692\n",
      "GAME : 15588016\n",
      "FAMILY : 3697848\n",
      "COMMUNICATION : 38456119\n",
      "TOOLS : 10801391\n",
      "PARENTING : 542604\n",
      "ENTERTAINMENT : 11640706\n",
      "MAPS_AND_NAVIGATION : 4056942\n",
      "PRODUCTIVITY : 16787331\n",
      "FOOD_AND_DRINK : 1924898\n"
     ]
    }
   ],
   "source": [
    "genre_googplay = freq_table(final_googplay[1:], 1) # Category\n",
    "\n",
    "for genre in genre_googplay:\n",
    "    total = 0\n",
    "    len_category = 0\n",
    "    for row in final_googplay[1:]:\n",
    "        category_app = row[1]\n",
    "        if category_app == genre:\n",
    "            installs = row[5] # Installs\n",
    "            installs = installs.replace(\"+\", \"\")\n",
    "            installs = installs.replace(\",\", \"\")\n",
    "            installs = float(installs)\n",
    "            total += installs\n",
    "            len_category += 1\n",
    "            \n",
    "    ave = round(total/len_category, )\n",
    "    print(genre, \":\", ave)"
   ]
  },
  {
   "cell_type": "markdown",
   "metadata": {},
   "source": [
    "Using the __Installs__ column, though it isn't readily apparent but the top category is _COMMUNICATION_ with an average of __38,456,119__ installs followed by _VIDEO PLAYERS_ at __2,472,7872__ and _SOCIAL_ at __23,253,652__ installs. Let's look at the top category first.\n",
    "\n",
    "Below are some of the _COMMUNICATION_ apps with the most number of installs. It's worth considering that there are apps with over a billion installs which may again skew the averages we computed earlier."
   ]
  },
  {
   "cell_type": "code",
   "execution_count": 60,
   "metadata": {
    "collapsed": false
   },
   "outputs": [
    {
     "name": "stdout",
     "output_type": "stream",
     "text": [
      "WhatsApp Messenger : 1,000,000,000+\n",
      "Messenger – Text and Video Chat for Free : 1,000,000,000+\n",
      "Skype - free IM & video calls : 1,000,000,000+\n",
      "Google Chrome: Fast & Secure : 1,000,000,000+\n",
      "Gmail : 1,000,000,000+\n",
      "Hangouts : 1,000,000,000+\n",
      "\n",
      "\n",
      "Google Duo - High Quality Video Calls : 500,000,000+\n",
      "imo free video calls and chat : 500,000,000+\n",
      "LINE: Free Calls & Messages : 500,000,000+\n",
      "UC Browser - Fast Download Private & Secure : 500,000,000+\n",
      "Viber Messenger : 500,000,000+\n",
      "\n",
      "\n",
      "imo beta free calls and text : 100,000,000+\n",
      "Android Messages : 100,000,000+\n",
      "Who : 100,000,000+\n",
      "GO SMS Pro - Messenger, Free Themes, Emoji : 100,000,000+\n",
      "Firefox Browser fast & private : 100,000,000+\n",
      "Messenger Lite: Free Calls & Messages : 100,000,000+\n",
      "Kik : 100,000,000+\n",
      "KakaoTalk: Free Calls & Text : 100,000,000+\n",
      "Opera Mini - fast web browser : 100,000,000+\n",
      "Opera Browser: Fast and Secure : 100,000,000+\n",
      "Telegram : 100,000,000+\n",
      "Truecaller: Caller ID, SMS spam blocking & Dialer : 100,000,000+\n",
      "UC Browser Mini -Tiny Fast Private & Secure : 100,000,000+\n",
      "WeChat : 100,000,000+\n",
      "Yahoo Mail – Stay Organized : 100,000,000+\n",
      "BBM - Free Calls & Messages : 100,000,000+\n"
     ]
    }
   ],
   "source": [
    "for row in final_googplay[1:]:\n",
    "    if row[1] == \"COMMUNICATION\" and (row[5] == \"1,000,000,000+\"):\n",
    "        print(row[0], \":\", row[5])\n",
    "\n",
    "print(\"\\n\")     \n",
    "\n",
    "for row in final_googplay[1:]:\n",
    "    if row[1] == \"COMMUNICATION\" and (row[5] == \"500,000,000+\"):\n",
    "        print(row[0], \":\", row[5])\n",
    "\n",
    "print(\"\\n\")     \n",
    "\n",
    "for row in final_googplay[1:]:\n",
    "    if row[1] == \"COMMUNICATION\" and (row[5] == \"100,000,000+\"):\n",
    "        print(row[0], \":\", row[5])        "
   ]
  },
  {
   "cell_type": "markdown",
   "metadata": {},
   "source": [
    "In fact, this skewness is also present in the aforementioned categories as we can see below. \n",
    "\n",
    "_VIDEO PLAYERS_ is dominated by YouTube and Google Play Movies, who are industry giants that will prove to be difficult to compete against. \n",
    "\n",
    "_SOCIAL_ on the other hand is similarly difficult to enter with social media giants such as Facebook and Instagram being prominent and hard-to-oust topnotchers."
   ]
  },
  {
   "cell_type": "code",
   "execution_count": 66,
   "metadata": {
    "collapsed": false
   },
   "outputs": [
    {
     "name": "stdout",
     "output_type": "stream",
     "text": [
      "========================\n",
      "VIDEO PLAYERS\n",
      "========================\n",
      "YouTube : 1,000,000,000+\n",
      "Google Play Movies & TV : 1,000,000,000+\n",
      "\n",
      "\n",
      "MX Player : 500,000,000+\n",
      "\n",
      "\n",
      "Motorola Gallery : 100,000,000+\n",
      "VLC for Android : 100,000,000+\n",
      "Dubsmash : 100,000,000+\n",
      "VivaVideo - Video Editor & Photo Movie : 100,000,000+\n",
      "VideoShow-Video Editor, Video Maker, Beauty Camera : 100,000,000+\n",
      "Motorola FM Radio : 100,000,000+\n",
      "\n",
      "\n",
      "========================\n",
      "SOCIAL\n",
      "========================\n",
      "Facebook : 1,000,000,000+\n",
      "Google+ : 1,000,000,000+\n",
      "Instagram : 1,000,000,000+\n",
      "\n",
      "\n",
      "Facebook Lite : 500,000,000+\n",
      "Snapchat : 500,000,000+\n",
      "\n",
      "\n",
      "Tumblr : 100,000,000+\n",
      "Pinterest : 100,000,000+\n",
      "Badoo - Free Chat & Dating App : 100,000,000+\n",
      "Tango - Live Video Broadcast : 100,000,000+\n",
      "LinkedIn : 100,000,000+\n",
      "Tik Tok - including musical.ly : 100,000,000+\n",
      "BIGO LIVE - Live Stream : 100,000,000+\n",
      "VK : 100,000,000+\n"
     ]
    }
   ],
   "source": [
    "print(\"========================\")\n",
    "print(\"VIDEO PLAYERS\")\n",
    "print(\"========================\")\n",
    "for row in final_googplay[1:]:\n",
    "    if row[1] == \"VIDEO_PLAYERS\" and (row[5] == \"1,000,000,000+\"):\n",
    "        print(row[0], \":\", row[5])\n",
    "\n",
    "print(\"\\n\")     \n",
    "\n",
    "for row in final_googplay[1:]:\n",
    "    if row[1] == \"VIDEO_PLAYERS\" and (row[5] == \"500,000,000+\"):\n",
    "        print(row[0], \":\", row[5])\n",
    "\n",
    "print(\"\\n\")     \n",
    "\n",
    "for row in final_googplay[1:]:\n",
    "    if row[1] == \"VIDEO_PLAYERS\" and (row[5] == \"100,000,000+\"):\n",
    "        print(row[0], \":\", row[5])  \n",
    "\n",
    "print(\"\\n\")     \n",
    "print(\"========================\")\n",
    "print(\"SOCIAL\")\n",
    "print(\"========================\")\n",
    "for row in final_googplay[1:]:\n",
    "    if row[1] == \"SOCIAL\" and (row[5] == \"1,000,000,000+\"):\n",
    "        print(row[0], \":\", row[5])\n",
    "\n",
    "print(\"\\n\")     \n",
    "\n",
    "for row in final_googplay[1:]:\n",
    "    if row[1] == \"SOCIAL\" and (row[5] == \"500,000,000+\"):\n",
    "        print(row[0], \":\", row[5])\n",
    "\n",
    "print(\"\\n\")     \n",
    "\n",
    "for row in final_googplay[1:]:\n",
    "    if row[1] == \"SOCIAL\" and (row[5] == \"100,000,000+\"):\n",
    "        print(row[0], \":\", row[5])  "
   ]
  },
  {
   "cell_type": "markdown",
   "metadata": {},
   "source": [
    "Thus, we recompute the averages while removing apps that have over a hundred million installs to check for up-and-coming categories that may be worth entering, and try to make an app profile recommendation for those."
   ]
  },
  {
   "cell_type": "code",
   "execution_count": 61,
   "metadata": {
    "collapsed": false
   },
   "outputs": [
    {
     "name": "stdout",
     "output_type": "stream",
     "text": [
      "BUSINESS : 1226919\n",
      "EVENTS : 253542\n",
      "WEATHER : 5074486\n",
      "NEWS_AND_MAGAZINES : 1502842\n",
      "DATING : 854029\n",
      "VIDEO_PLAYERS : 5544878\n",
      "SPORTS : 2994083\n",
      "SHOPPING : 4640921\n",
      "BEAUTY : 513152\n",
      "AUTO_AND_VEHICLES : 647318\n",
      "TRAVEL_AND_LOCAL : 2944080\n",
      "BOOKS_AND_REFERENCE : 1437212\n",
      "PERSONALIZATION : 2549776\n",
      "MEDICAL : 120551\n",
      "HOUSE_AND_HOME : 1331541\n",
      "SOCIAL : 3084583\n",
      "EDUCATION : 1833495\n",
      "HEALTH_AND_FITNESS : 2005714\n",
      "PHOTOGRAPHY : 7670532\n",
      "LIFESTYLE : 1152129\n",
      "COMICS : 817657\n",
      "ART_AND_DESIGN : 1986335\n",
      "LIBRARIES_AND_DEMO : 638504\n",
      "FINANCE : 1086126\n",
      "GAME : 6272565\n",
      "FAMILY : 2344308\n",
      "COMMUNICATION : 3603485\n",
      "TOOLS : 3191461\n",
      "PARENTING : 542604\n",
      "ENTERTAINMENT : 6118250\n",
      "MAPS_AND_NAVIGATION : 2484105\n",
      "PRODUCTIVITY : 3379657\n",
      "FOOD_AND_DRINK : 1924898\n"
     ]
    }
   ],
   "source": [
    "for genre in genre_googplay:\n",
    "    total = 0\n",
    "    len_category = 0\n",
    "    for row in final_googplay[1:]:\n",
    "        category_app = row[1]\n",
    "        if category_app == genre and row[5] not in (\"1,000,000,000+\", \"500,000,000+\", \"100,000,000+\"):\n",
    "            installs = row[5] # Installs\n",
    "            installs = installs.replace(\"+\", \"\")\n",
    "            installs = installs.replace(\",\", \"\")\n",
    "            installs = float(installs)\n",
    "            total += installs\n",
    "            len_category += 1\n",
    "            \n",
    "    ave = round(total/len_category, )\n",
    "    print(genre, \":\", ave)"
   ]
  },
  {
   "cell_type": "markdown",
   "metadata": {},
   "source": [
    "After doing the previous step, the categories that took the most hit in average install count are those that had a high density of dominating apps. Looking at the recomputed averages, the top category is now _PHOTOGRAPHY_ with an average install count of __7,670,532__ followed by _GAME_ and _ENTERTAINMENT_."
   ]
  },
  {
   "cell_type": "code",
   "execution_count": 68,
   "metadata": {
    "collapsed": false
   },
   "outputs": [
    {
     "name": "stdout",
     "output_type": "stream",
     "text": [
      "Motorola Camera : 50,000,000+\n",
      "InstaBeauty -Makeup Selfie Cam : 50,000,000+\n",
      "Selfie Camera - Photo Editor & Filter & Sticker : 50,000,000+\n",
      "ASUS Gallery : 50,000,000+\n",
      "Square InPic - Photo Editor & Collage Maker : 50,000,000+\n",
      "VSCO : 50,000,000+\n",
      "PhotoWonder: Pro Beauty Photo Editor Collage Maker : 50,000,000+\n",
      "Photo Effects Pro : 50,000,000+\n",
      "Photo Editor Selfie Camera Filter & Mirror Image : 50,000,000+\n",
      "Pic Collage - Photo Editor : 50,000,000+\n",
      "Photo Editor by Aviary : 50,000,000+\n",
      "Video Editor Music,Cut,No Crop : 50,000,000+\n",
      "Pixlr – Free Photo Editor : 50,000,000+\n",
      "Adobe Photoshop Express:Photo Editor Collage Maker : 50,000,000+\n",
      "InstaSize Photo Filters & Collage Editor : 50,000,000+\n",
      "Snapseed : 50,000,000+\n",
      "Keepsafe Photo Vault: Hide Private Photos & Videos : 50,000,000+\n",
      "MakeupPlus - Your Own Virtual Makeup Artist : 50,000,000+\n",
      "SNOW - AR Camera : 50,000,000+\n",
      "Boomerang from Instagram : 50,000,000+\n",
      "Photo Lab Picture Editor: face effects, art frames : 50,000,000+\n",
      "MomentCam Cartoons & Stickers : 50,000,000+\n"
     ]
    }
   ],
   "source": [
    "for row in final_googplay[1:]:\n",
    "    if row[1] == \"PHOTOGRAPHY\" and row[5] == (\"50,000,000+\"):\n",
    "        print(row[0], \":\", row[5])  "
   ]
  },
  {
   "cell_type": "markdown",
   "metadata": {},
   "source": [
    "Above are _PHOTOGRAPHY_ apps that have less than a hundred million installs but have over fifty million installs. These can be considered as budding apps in this genre that, while saturated, benefits from having a lot of variation. Intuitively, each user would have likely tried more than one camera app, more than one filter app, more than one photo/video editing app, etc. and only after would decide their preferred app of choice.\n",
    "\n",
    "Thus, it might be worth developing a photography app that can encapsulate the varying features while keeping quality control in check. This app, aside from being able to directly take pictures and videos whether selfies, panoramas, or boomerangs, would also allow for filter application. For this, dedicated high-quality presets should be made available for free to the user. Granular control over picture characteristics such as contrast, brightness, hue, saturation, etc. would also be desirable since mobile photography is more popular than ever. Afterwards, making collages from the photos could be another step for an encompassing user experience, but the execution should be creative and innovative so that people will actually use them. \n",
    "\n",
    "More intricate ideas include the ability to crop photos according to standard social media ratios, but also for specific social media app cropping dimensions (Twitter and Instagram comes to mind). Finally, the photos should be easily shareable to the user's social circle. This may be done with a dedicated feed that the user can curate, or through partnering with popular social media apps and easing publishing through them."
   ]
  },
  {
   "cell_type": "markdown",
   "metadata": {},
   "source": [
    "# Conclusions\n",
    "---\n",
    "\n",
    "For this project, we performed data cleaning an analysis on two readily-available datasets on mobile apps in order to create profitable app profiles that our company can develop. We looked at app popularity and frequency to influence our decisions, and came up with two profiles:\n",
    "* For the App Store, a dedicated Bible reading app with features aimed at making reading interpretability and understanding the main priority by offering definitions and translations\n",
    "* For the Google Playstore, a photography app that encompasses a variety of features so that users can prioritize usage and not looking for other apps to the job for them. Granular controls over photo parameters as well as intuitive sharing functionalities are prioritized as mobile photography booms for both professionals and enthusiasts\n",
    "\n",
    "Future recommendations for the analysis is to also look at app revenue and in-app purchases and subscriptions for specific types of apps. Additional steps that account for skewed computations should also be considered in the future."
   ]
  }
 ],
 "metadata": {
  "kernelspec": {
   "display_name": "Python 3",
   "language": "python",
   "name": "python3"
  },
  "language_info": {
   "codemirror_mode": {
    "name": "ipython",
    "version": 3
   },
   "file_extension": ".py",
   "mimetype": "text/x-python",
   "name": "python",
   "nbconvert_exporter": "python",
   "pygments_lexer": "ipython3",
   "version": "3.4.3"
  }
 },
 "nbformat": 4,
 "nbformat_minor": 2
}
